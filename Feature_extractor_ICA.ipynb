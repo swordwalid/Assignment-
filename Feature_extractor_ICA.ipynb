{
  "cells": [
    {
      "cell_type": "markdown",
      "metadata": {
        "id": "view-in-github",
        "colab_type": "text"
      },
      "source": [
        "<a href=\"https://colab.research.google.com/github/swordwalid/ML-Projects-/blob/main/Feature_extractor_ICA.ipynb\" target=\"_parent\"><img src=\"https://colab.research.google.com/assets/colab-badge.svg\" alt=\"Open In Colab\"/></a>"
      ]
    },
    {
      "cell_type": "code",
      "execution_count": null,
      "metadata": {
        "id": "8n7s4Lpq8-Er"
      },
      "outputs": [],
      "source": [
        "import pandas as pd\n",
        "import numpy as np\n",
        "import matplotlib.pyplot as plt\n",
        "%matplotlib inline"
      ]
    },
    {
      "cell_type": "code",
      "source": [
        "from google.colab import drive\n",
        "drive.mount('/content/drive')"
      ],
      "metadata": {
        "id": "OfVGCR1c9lwN",
        "colab": {
          "base_uri": "https://localhost:8080/"
        },
        "outputId": "21ecd0b9-1dee-428f-8981-1d25f597f868"
      },
      "execution_count": null,
      "outputs": [
        {
          "output_type": "stream",
          "name": "stdout",
          "text": [
            "Mounted at /content/drive\n"
          ]
        }
      ]
    },
    {
      "cell_type": "code",
      "execution_count": null,
      "metadata": {
        "id": "AN0gvH4N8-Et"
      },
      "outputs": [],
      "source": [
        "df=pd.read_csv('/content/drive/MyDrive/Help (1)/Parkinson/pd_speech_features.csv')"
      ]
    },
    {
      "cell_type": "code",
      "source": [
        "df.columns"
      ],
      "metadata": {
        "id": "1_o_haeGaSez",
        "colab": {
          "base_uri": "https://localhost:8080/"
        },
        "outputId": "692d2628-5160-474f-eb19-60d272e91413"
      },
      "execution_count": null,
      "outputs": [
        {
          "output_type": "execute_result",
          "data": {
            "text/plain": [
              "Index(['id', 'gender', 'PPE', 'DFA', 'RPDE', 'numPulses', 'numPeriodsPulses',\n",
              "       'meanPeriodPulses', 'stdDevPeriodPulses', 'locPctJitter',\n",
              "       ...\n",
              "       'tqwt_kurtosisValue_dec_28', 'tqwt_kurtosisValue_dec_29',\n",
              "       'tqwt_kurtosisValue_dec_30', 'tqwt_kurtosisValue_dec_31',\n",
              "       'tqwt_kurtosisValue_dec_32', 'tqwt_kurtosisValue_dec_33',\n",
              "       'tqwt_kurtosisValue_dec_34', 'tqwt_kurtosisValue_dec_35',\n",
              "       'tqwt_kurtosisValue_dec_36', 'class'],\n",
              "      dtype='object', length=755)"
            ]
          },
          "metadata": {},
          "execution_count": 4
        }
      ]
    },
    {
      "cell_type": "code",
      "source": [
        "df.describe()"
      ],
      "metadata": {
        "id": "Z_hdjhrd1NEa",
        "colab": {
          "base_uri": "https://localhost:8080/",
          "height": 394
        },
        "outputId": "e0b48874-dd4b-4e29-fc1e-556e6f47e362"
      },
      "execution_count": null,
      "outputs": [
        {
          "output_type": "execute_result",
          "data": {
            "text/plain": [
              "               id      gender         PPE         DFA        RPDE   numPulses  \\\n",
              "count  756.000000  756.000000  756.000000  756.000000  756.000000  756.000000   \n",
              "mean   125.500000    0.515873    0.746284    0.700414    0.489058  323.972222   \n",
              "std     72.793721    0.500079    0.169294    0.069718    0.137442   99.219059   \n",
              "min      0.000000    0.000000    0.041551    0.543500    0.154300    2.000000   \n",
              "25%     62.750000    0.000000    0.762833    0.647053    0.386537  251.000000   \n",
              "50%    125.500000    1.000000    0.809655    0.700525    0.484355  317.000000   \n",
              "75%    188.250000    1.000000    0.834315    0.754985    0.586515  384.250000   \n",
              "max    251.000000    1.000000    0.907660    0.852640    0.871230  907.000000   \n",
              "\n",
              "       numPeriodsPulses  meanPeriodPulses  stdDevPeriodPulses  locPctJitter  \\\n",
              "count        756.000000        756.000000          756.000000    756.000000   \n",
              "mean         322.678571          0.006360            0.000383      0.002324   \n",
              "std           99.402499          0.001826            0.000728      0.002628   \n",
              "min            1.000000          0.002107            0.000011      0.000210   \n",
              "25%          250.000000          0.005003            0.000049      0.000970   \n",
              "50%          316.000000          0.006048            0.000077      0.001495   \n",
              "75%          383.250000          0.007528            0.000171      0.002520   \n",
              "max          905.000000          0.012966            0.003483      0.027750   \n",
              "\n",
              "       ...  tqwt_kurtosisValue_dec_28  tqwt_kurtosisValue_dec_29  \\\n",
              "count  ...                 756.000000                 756.000000   \n",
              "mean   ...                  26.237251                  22.840337   \n",
              "std    ...                  42.220693                  32.626464   \n",
              "min    ...                   1.509800                   1.531700   \n",
              "25%    ...                   2.408675                   3.452800   \n",
              "50%    ...                   5.586300                   7.062750   \n",
              "75%    ...                  28.958075                  29.830850   \n",
              "max    ...                 239.788800                 203.311300   \n",
              "\n",
              "       tqwt_kurtosisValue_dec_30  tqwt_kurtosisValue_dec_31  \\\n",
              "count                 756.000000                 756.000000   \n",
              "mean                   18.587888                  13.872018   \n",
              "std                    25.537464                  20.046029   \n",
              "min                     1.582900                   1.747200   \n",
              "25%                     3.354825                   3.077450   \n",
              "50%                     6.077400                   4.770850   \n",
              "75%                    21.944050                  13.188000   \n",
              "max                   121.542900                 102.207000   \n",
              "\n",
              "       tqwt_kurtosisValue_dec_32  tqwt_kurtosisValue_dec_33  \\\n",
              "count                 756.000000                 756.000000   \n",
              "mean                   12.218953                  12.375335   \n",
              "std                    17.783642                  16.341665   \n",
              "min                     1.789500                   1.628700   \n",
              "25%                     2.937025                   3.114375   \n",
              "50%                     4.300450                   4.741450   \n",
              "75%                    10.876150                  12.201325   \n",
              "max                    85.571700                  73.532200   \n",
              "\n",
              "       tqwt_kurtosisValue_dec_34  tqwt_kurtosisValue_dec_35  \\\n",
              "count                 756.000000                 756.000000   \n",
              "mean                   14.799230                  14.751559   \n",
              "std                    15.722502                  14.432979   \n",
              "min                     1.861700                   1.955900   \n",
              "25%                     3.665925                   3.741275   \n",
              "50%                     6.725700                   7.334250   \n",
              "75%                    21.922050                  22.495175   \n",
              "max                    62.007300                  57.544300   \n",
              "\n",
              "       tqwt_kurtosisValue_dec_36       class  \n",
              "count                 756.000000  756.000000  \n",
              "mean                   31.481110    0.746032  \n",
              "std                    34.230991    0.435568  \n",
              "min                     2.364000    0.000000  \n",
              "25%                     3.948750    0.000000  \n",
              "50%                    10.637250    1.000000  \n",
              "75%                    61.125325    1.000000  \n",
              "max                   156.423700    1.000000  \n",
              "\n",
              "[8 rows x 755 columns]"
            ],
            "text/html": [
              "\n",
              "  <div id=\"df-136376b0-16d3-4cf0-90ac-0857254c48ee\">\n",
              "    <div class=\"colab-df-container\">\n",
              "      <div>\n",
              "<style scoped>\n",
              "    .dataframe tbody tr th:only-of-type {\n",
              "        vertical-align: middle;\n",
              "    }\n",
              "\n",
              "    .dataframe tbody tr th {\n",
              "        vertical-align: top;\n",
              "    }\n",
              "\n",
              "    .dataframe thead th {\n",
              "        text-align: right;\n",
              "    }\n",
              "</style>\n",
              "<table border=\"1\" class=\"dataframe\">\n",
              "  <thead>\n",
              "    <tr style=\"text-align: right;\">\n",
              "      <th></th>\n",
              "      <th>id</th>\n",
              "      <th>gender</th>\n",
              "      <th>PPE</th>\n",
              "      <th>DFA</th>\n",
              "      <th>RPDE</th>\n",
              "      <th>numPulses</th>\n",
              "      <th>numPeriodsPulses</th>\n",
              "      <th>meanPeriodPulses</th>\n",
              "      <th>stdDevPeriodPulses</th>\n",
              "      <th>locPctJitter</th>\n",
              "      <th>...</th>\n",
              "      <th>tqwt_kurtosisValue_dec_28</th>\n",
              "      <th>tqwt_kurtosisValue_dec_29</th>\n",
              "      <th>tqwt_kurtosisValue_dec_30</th>\n",
              "      <th>tqwt_kurtosisValue_dec_31</th>\n",
              "      <th>tqwt_kurtosisValue_dec_32</th>\n",
              "      <th>tqwt_kurtosisValue_dec_33</th>\n",
              "      <th>tqwt_kurtosisValue_dec_34</th>\n",
              "      <th>tqwt_kurtosisValue_dec_35</th>\n",
              "      <th>tqwt_kurtosisValue_dec_36</th>\n",
              "      <th>class</th>\n",
              "    </tr>\n",
              "  </thead>\n",
              "  <tbody>\n",
              "    <tr>\n",
              "      <th>count</th>\n",
              "      <td>756.000000</td>\n",
              "      <td>756.000000</td>\n",
              "      <td>756.000000</td>\n",
              "      <td>756.000000</td>\n",
              "      <td>756.000000</td>\n",
              "      <td>756.000000</td>\n",
              "      <td>756.000000</td>\n",
              "      <td>756.000000</td>\n",
              "      <td>756.000000</td>\n",
              "      <td>756.000000</td>\n",
              "      <td>...</td>\n",
              "      <td>756.000000</td>\n",
              "      <td>756.000000</td>\n",
              "      <td>756.000000</td>\n",
              "      <td>756.000000</td>\n",
              "      <td>756.000000</td>\n",
              "      <td>756.000000</td>\n",
              "      <td>756.000000</td>\n",
              "      <td>756.000000</td>\n",
              "      <td>756.000000</td>\n",
              "      <td>756.000000</td>\n",
              "    </tr>\n",
              "    <tr>\n",
              "      <th>mean</th>\n",
              "      <td>125.500000</td>\n",
              "      <td>0.515873</td>\n",
              "      <td>0.746284</td>\n",
              "      <td>0.700414</td>\n",
              "      <td>0.489058</td>\n",
              "      <td>323.972222</td>\n",
              "      <td>322.678571</td>\n",
              "      <td>0.006360</td>\n",
              "      <td>0.000383</td>\n",
              "      <td>0.002324</td>\n",
              "      <td>...</td>\n",
              "      <td>26.237251</td>\n",
              "      <td>22.840337</td>\n",
              "      <td>18.587888</td>\n",
              "      <td>13.872018</td>\n",
              "      <td>12.218953</td>\n",
              "      <td>12.375335</td>\n",
              "      <td>14.799230</td>\n",
              "      <td>14.751559</td>\n",
              "      <td>31.481110</td>\n",
              "      <td>0.746032</td>\n",
              "    </tr>\n",
              "    <tr>\n",
              "      <th>std</th>\n",
              "      <td>72.793721</td>\n",
              "      <td>0.500079</td>\n",
              "      <td>0.169294</td>\n",
              "      <td>0.069718</td>\n",
              "      <td>0.137442</td>\n",
              "      <td>99.219059</td>\n",
              "      <td>99.402499</td>\n",
              "      <td>0.001826</td>\n",
              "      <td>0.000728</td>\n",
              "      <td>0.002628</td>\n",
              "      <td>...</td>\n",
              "      <td>42.220693</td>\n",
              "      <td>32.626464</td>\n",
              "      <td>25.537464</td>\n",
              "      <td>20.046029</td>\n",
              "      <td>17.783642</td>\n",
              "      <td>16.341665</td>\n",
              "      <td>15.722502</td>\n",
              "      <td>14.432979</td>\n",
              "      <td>34.230991</td>\n",
              "      <td>0.435568</td>\n",
              "    </tr>\n",
              "    <tr>\n",
              "      <th>min</th>\n",
              "      <td>0.000000</td>\n",
              "      <td>0.000000</td>\n",
              "      <td>0.041551</td>\n",
              "      <td>0.543500</td>\n",
              "      <td>0.154300</td>\n",
              "      <td>2.000000</td>\n",
              "      <td>1.000000</td>\n",
              "      <td>0.002107</td>\n",
              "      <td>0.000011</td>\n",
              "      <td>0.000210</td>\n",
              "      <td>...</td>\n",
              "      <td>1.509800</td>\n",
              "      <td>1.531700</td>\n",
              "      <td>1.582900</td>\n",
              "      <td>1.747200</td>\n",
              "      <td>1.789500</td>\n",
              "      <td>1.628700</td>\n",
              "      <td>1.861700</td>\n",
              "      <td>1.955900</td>\n",
              "      <td>2.364000</td>\n",
              "      <td>0.000000</td>\n",
              "    </tr>\n",
              "    <tr>\n",
              "      <th>25%</th>\n",
              "      <td>62.750000</td>\n",
              "      <td>0.000000</td>\n",
              "      <td>0.762833</td>\n",
              "      <td>0.647053</td>\n",
              "      <td>0.386537</td>\n",
              "      <td>251.000000</td>\n",
              "      <td>250.000000</td>\n",
              "      <td>0.005003</td>\n",
              "      <td>0.000049</td>\n",
              "      <td>0.000970</td>\n",
              "      <td>...</td>\n",
              "      <td>2.408675</td>\n",
              "      <td>3.452800</td>\n",
              "      <td>3.354825</td>\n",
              "      <td>3.077450</td>\n",
              "      <td>2.937025</td>\n",
              "      <td>3.114375</td>\n",
              "      <td>3.665925</td>\n",
              "      <td>3.741275</td>\n",
              "      <td>3.948750</td>\n",
              "      <td>0.000000</td>\n",
              "    </tr>\n",
              "    <tr>\n",
              "      <th>50%</th>\n",
              "      <td>125.500000</td>\n",
              "      <td>1.000000</td>\n",
              "      <td>0.809655</td>\n",
              "      <td>0.700525</td>\n",
              "      <td>0.484355</td>\n",
              "      <td>317.000000</td>\n",
              "      <td>316.000000</td>\n",
              "      <td>0.006048</td>\n",
              "      <td>0.000077</td>\n",
              "      <td>0.001495</td>\n",
              "      <td>...</td>\n",
              "      <td>5.586300</td>\n",
              "      <td>7.062750</td>\n",
              "      <td>6.077400</td>\n",
              "      <td>4.770850</td>\n",
              "      <td>4.300450</td>\n",
              "      <td>4.741450</td>\n",
              "      <td>6.725700</td>\n",
              "      <td>7.334250</td>\n",
              "      <td>10.637250</td>\n",
              "      <td>1.000000</td>\n",
              "    </tr>\n",
              "    <tr>\n",
              "      <th>75%</th>\n",
              "      <td>188.250000</td>\n",
              "      <td>1.000000</td>\n",
              "      <td>0.834315</td>\n",
              "      <td>0.754985</td>\n",
              "      <td>0.586515</td>\n",
              "      <td>384.250000</td>\n",
              "      <td>383.250000</td>\n",
              "      <td>0.007528</td>\n",
              "      <td>0.000171</td>\n",
              "      <td>0.002520</td>\n",
              "      <td>...</td>\n",
              "      <td>28.958075</td>\n",
              "      <td>29.830850</td>\n",
              "      <td>21.944050</td>\n",
              "      <td>13.188000</td>\n",
              "      <td>10.876150</td>\n",
              "      <td>12.201325</td>\n",
              "      <td>21.922050</td>\n",
              "      <td>22.495175</td>\n",
              "      <td>61.125325</td>\n",
              "      <td>1.000000</td>\n",
              "    </tr>\n",
              "    <tr>\n",
              "      <th>max</th>\n",
              "      <td>251.000000</td>\n",
              "      <td>1.000000</td>\n",
              "      <td>0.907660</td>\n",
              "      <td>0.852640</td>\n",
              "      <td>0.871230</td>\n",
              "      <td>907.000000</td>\n",
              "      <td>905.000000</td>\n",
              "      <td>0.012966</td>\n",
              "      <td>0.003483</td>\n",
              "      <td>0.027750</td>\n",
              "      <td>...</td>\n",
              "      <td>239.788800</td>\n",
              "      <td>203.311300</td>\n",
              "      <td>121.542900</td>\n",
              "      <td>102.207000</td>\n",
              "      <td>85.571700</td>\n",
              "      <td>73.532200</td>\n",
              "      <td>62.007300</td>\n",
              "      <td>57.544300</td>\n",
              "      <td>156.423700</td>\n",
              "      <td>1.000000</td>\n",
              "    </tr>\n",
              "  </tbody>\n",
              "</table>\n",
              "<p>8 rows × 755 columns</p>\n",
              "</div>\n",
              "      <button class=\"colab-df-convert\" onclick=\"convertToInteractive('df-136376b0-16d3-4cf0-90ac-0857254c48ee')\"\n",
              "              title=\"Convert this dataframe to an interactive table.\"\n",
              "              style=\"display:none;\">\n",
              "        \n",
              "  <svg xmlns=\"http://www.w3.org/2000/svg\" height=\"24px\"viewBox=\"0 0 24 24\"\n",
              "       width=\"24px\">\n",
              "    <path d=\"M0 0h24v24H0V0z\" fill=\"none\"/>\n",
              "    <path d=\"M18.56 5.44l.94 2.06.94-2.06 2.06-.94-2.06-.94-.94-2.06-.94 2.06-2.06.94zm-11 1L8.5 8.5l.94-2.06 2.06-.94-2.06-.94L8.5 2.5l-.94 2.06-2.06.94zm10 10l.94 2.06.94-2.06 2.06-.94-2.06-.94-.94-2.06-.94 2.06-2.06.94z\"/><path d=\"M17.41 7.96l-1.37-1.37c-.4-.4-.92-.59-1.43-.59-.52 0-1.04.2-1.43.59L10.3 9.45l-7.72 7.72c-.78.78-.78 2.05 0 2.83L4 21.41c.39.39.9.59 1.41.59.51 0 1.02-.2 1.41-.59l7.78-7.78 2.81-2.81c.8-.78.8-2.07 0-2.86zM5.41 20L4 18.59l7.72-7.72 1.47 1.35L5.41 20z\"/>\n",
              "  </svg>\n",
              "      </button>\n",
              "      \n",
              "  <style>\n",
              "    .colab-df-container {\n",
              "      display:flex;\n",
              "      flex-wrap:wrap;\n",
              "      gap: 12px;\n",
              "    }\n",
              "\n",
              "    .colab-df-convert {\n",
              "      background-color: #E8F0FE;\n",
              "      border: none;\n",
              "      border-radius: 50%;\n",
              "      cursor: pointer;\n",
              "      display: none;\n",
              "      fill: #1967D2;\n",
              "      height: 32px;\n",
              "      padding: 0 0 0 0;\n",
              "      width: 32px;\n",
              "    }\n",
              "\n",
              "    .colab-df-convert:hover {\n",
              "      background-color: #E2EBFA;\n",
              "      box-shadow: 0px 1px 2px rgba(60, 64, 67, 0.3), 0px 1px 3px 1px rgba(60, 64, 67, 0.15);\n",
              "      fill: #174EA6;\n",
              "    }\n",
              "\n",
              "    [theme=dark] .colab-df-convert {\n",
              "      background-color: #3B4455;\n",
              "      fill: #D2E3FC;\n",
              "    }\n",
              "\n",
              "    [theme=dark] .colab-df-convert:hover {\n",
              "      background-color: #434B5C;\n",
              "      box-shadow: 0px 1px 3px 1px rgba(0, 0, 0, 0.15);\n",
              "      filter: drop-shadow(0px 1px 2px rgba(0, 0, 0, 0.3));\n",
              "      fill: #FFFFFF;\n",
              "    }\n",
              "  </style>\n",
              "\n",
              "      <script>\n",
              "        const buttonEl =\n",
              "          document.querySelector('#df-136376b0-16d3-4cf0-90ac-0857254c48ee button.colab-df-convert');\n",
              "        buttonEl.style.display =\n",
              "          google.colab.kernel.accessAllowed ? 'block' : 'none';\n",
              "\n",
              "        async function convertToInteractive(key) {\n",
              "          const element = document.querySelector('#df-136376b0-16d3-4cf0-90ac-0857254c48ee');\n",
              "          const dataTable =\n",
              "            await google.colab.kernel.invokeFunction('convertToInteractive',\n",
              "                                                     [key], {});\n",
              "          if (!dataTable) return;\n",
              "\n",
              "          const docLinkHtml = 'Like what you see? Visit the ' +\n",
              "            '<a target=\"_blank\" href=https://colab.research.google.com/notebooks/data_table.ipynb>data table notebook</a>'\n",
              "            + ' to learn more about interactive tables.';\n",
              "          element.innerHTML = '';\n",
              "          dataTable['output_type'] = 'display_data';\n",
              "          await google.colab.output.renderOutput(dataTable, element);\n",
              "          const docLink = document.createElement('div');\n",
              "          docLink.innerHTML = docLinkHtml;\n",
              "          element.appendChild(docLink);\n",
              "        }\n",
              "      </script>\n",
              "    </div>\n",
              "  </div>\n",
              "  "
            ]
          },
          "metadata": {},
          "execution_count": 5
        }
      ]
    },
    {
      "cell_type": "code",
      "execution_count": null,
      "metadata": {
        "id": "xu5FKCqC8-Eu",
        "colab": {
          "base_uri": "https://localhost:8080/"
        },
        "outputId": "c4858a3c-b430-4b25-f741-17e80baa6c41"
      },
      "outputs": [
        {
          "output_type": "stream",
          "name": "stdout",
          "text": [
            "<class 'pandas.core.frame.DataFrame'>\n",
            "RangeIndex: 756 entries, 0 to 755\n",
            "Columns: 755 entries, id to class\n",
            "dtypes: float64(749), int64(6)\n",
            "memory usage: 4.4 MB\n"
          ]
        }
      ],
      "source": [
        "df.info()"
      ]
    },
    {
      "cell_type": "code",
      "source": [
        "df.shape"
      ],
      "metadata": {
        "id": "VWTSAIXdiXLu",
        "colab": {
          "base_uri": "https://localhost:8080/"
        },
        "outputId": "db5c61fc-c6d4-4def-e06b-a12c158087a5"
      },
      "execution_count": null,
      "outputs": [
        {
          "output_type": "execute_result",
          "data": {
            "text/plain": [
              "(756, 755)"
            ]
          },
          "metadata": {},
          "execution_count": 7
        }
      ]
    },
    {
      "cell_type": "code",
      "source": [
        "df['class'].value_counts()"
      ],
      "metadata": {
        "id": "Inne6yrkbio3",
        "colab": {
          "base_uri": "https://localhost:8080/"
        },
        "outputId": "8c51b453-9bc6-4a67-db0e-cc51322df063"
      },
      "execution_count": null,
      "outputs": [
        {
          "output_type": "execute_result",
          "data": {
            "text/plain": [
              "1    564\n",
              "0    192\n",
              "Name: class, dtype: int64"
            ]
          },
          "metadata": {},
          "execution_count": 8
        }
      ]
    },
    {
      "cell_type": "code",
      "execution_count": null,
      "metadata": {
        "id": "lxvhRp4H8-Ew"
      },
      "outputs": [],
      "source": [
        "X=df.drop('class',axis=1)"
      ]
    },
    {
      "cell_type": "code",
      "execution_count": null,
      "metadata": {
        "id": "0Kj8kJsD8-Ew",
        "colab": {
          "base_uri": "https://localhost:8080/"
        },
        "outputId": "62970acc-0282-4719-ca71-33aefa508094"
      },
      "outputs": [
        {
          "output_type": "execute_result",
          "data": {
            "text/plain": [
              "(756, 754)"
            ]
          },
          "metadata": {},
          "execution_count": 10
        }
      ],
      "source": [
        "X.shape"
      ]
    },
    {
      "cell_type": "code",
      "execution_count": null,
      "metadata": {
        "id": "vVw-F1Mz8-Ey"
      },
      "outputs": [],
      "source": [
        "y=df.iloc[:,-1]"
      ]
    },
    {
      "cell_type": "code",
      "execution_count": null,
      "metadata": {
        "id": "oJ0FsRjg8-Ey",
        "colab": {
          "base_uri": "https://localhost:8080/"
        },
        "outputId": "94470040-1989-4901-ebf4-1cae8e7c2107"
      },
      "outputs": [
        {
          "output_type": "execute_result",
          "data": {
            "text/plain": [
              "0      1\n",
              "1      1\n",
              "2      1\n",
              "3      1\n",
              "4      1\n",
              "      ..\n",
              "751    0\n",
              "752    0\n",
              "753    0\n",
              "754    0\n",
              "755    0\n",
              "Name: class, Length: 756, dtype: int64"
            ]
          },
          "metadata": {},
          "execution_count": 12
        }
      ],
      "source": [
        "y"
      ]
    },
    {
      "cell_type": "code",
      "execution_count": null,
      "metadata": {
        "id": "qiVT6xc28-E0"
      },
      "outputs": [],
      "source": [
        "import keras"
      ]
    },
    {
      "cell_type": "code",
      "execution_count": null,
      "metadata": {
        "id": "psX2iI-o8-E0"
      },
      "outputs": [],
      "source": [
        "#keras.utils.all_utils.Sequence"
      ]
    },
    {
      "cell_type": "code",
      "execution_count": null,
      "metadata": {
        "id": "-j-zYePQ8-E1"
      },
      "outputs": [],
      "source": [
        "# from imblearn.over_sampling import SMOTE\n",
        "# from collections import Counter\n",
        "# counter=Counter(y)\n",
        "# print('Before oversampling',counter)\n",
        "# sm=SMOTE()\n",
        "# x,y = sm.fit_resample(X,y)\n",
        "# counter=Counter(y)\n",
        "# print('After oversampling',counter)"
      ]
    },
    {
      "cell_type": "code",
      "source": [
        "from collections import Counter\n",
        "from imblearn.combine import SMOTETomek\n",
        "counter = Counter(y)\n",
        "print('Before', counter)\n",
        "smtt = SMOTETomek(random_state = 139)\n",
        "x,y = smtt.fit_resample(X,y)\n",
        "counter = Counter(y)\n",
        "print('After', counter)"
      ],
      "metadata": {
        "colab": {
          "base_uri": "https://localhost:8080/"
        },
        "id": "SxCT9mAl8AHA",
        "outputId": "83557b73-e9e4-476e-d47e-b62bb4e67d0e"
      },
      "execution_count": null,
      "outputs": [
        {
          "output_type": "stream",
          "name": "stdout",
          "text": [
            "Before Counter({1: 564, 0: 192})\n",
            "After Counter({1: 466, 0: 466})\n"
          ]
        }
      ]
    },
    {
      "cell_type": "code",
      "execution_count": null,
      "metadata": {
        "id": "4v1pO8dP8-E1"
      },
      "outputs": [],
      "source": [
        "from sklearn.model_selection import train_test_split\n",
        "x_train,x_test,y_train,y_test=train_test_split(x,y,test_size=0.2,random_state=42)"
      ]
    },
    {
      "cell_type": "code",
      "execution_count": null,
      "metadata": {
        "id": "du7WPUiW8-E2",
        "colab": {
          "base_uri": "https://localhost:8080/"
        },
        "outputId": "e6dc951c-a2d6-4c74-f40d-ac0e8100a8d5"
      },
      "outputs": [
        {
          "output_type": "execute_result",
          "data": {
            "text/plain": [
              "((745, 754), (745,))"
            ]
          },
          "metadata": {},
          "execution_count": 18
        }
      ],
      "source": [
        "x_train.shape,y_train.shape"
      ]
    },
    {
      "cell_type": "code",
      "execution_count": null,
      "metadata": {
        "id": "Jcq2PuDa8-E2",
        "colab": {
          "base_uri": "https://localhost:8080/"
        },
        "outputId": "dfa3324d-6110-4fc5-e99c-c23f9ec920bb"
      },
      "outputs": [
        {
          "output_type": "execute_result",
          "data": {
            "text/plain": [
              "((187, 754), (187,))"
            ]
          },
          "metadata": {},
          "execution_count": 19
        }
      ],
      "source": [
        "x_test.shape,y_test.shape"
      ]
    },
    {
      "cell_type": "markdown",
      "source": [
        "Independent Component Analysis"
      ],
      "metadata": {
        "id": "c91LSkstCbQ9"
      }
    },
    {
      "cell_type": "code",
      "source": [
        "from sklearn.decomposition import FastICA\n",
        "transformer = FastICA(n_components=50, random_state=8, max_iter=2000)"
      ],
      "metadata": {
        "id": "xC-YzwY8CHv4"
      },
      "execution_count": null,
      "outputs": []
    },
    {
      "cell_type": "code",
      "source": [
        "transformer.fit(x_train)\n",
        "x_train = transformer.transform(x_train)\n",
        "x_test = transformer.transform(x_test)"
      ],
      "metadata": {
        "id": "aU1bkXWQC-a9"
      },
      "execution_count": null,
      "outputs": []
    },
    {
      "cell_type": "markdown",
      "metadata": {
        "id": "mDueWD6u8-E3"
      },
      "source": [
        "### Logistic Regression"
      ]
    },
    {
      "cell_type": "code",
      "execution_count": null,
      "metadata": {
        "id": "Qy8XSWs_8-E-",
        "colab": {
          "base_uri": "https://localhost:8080/"
        },
        "outputId": "66137636-a1db-491b-f9e1-819804a10666"
      },
      "outputs": [
        {
          "output_type": "stream",
          "name": "stdout",
          "text": [
            "Accuracy of support vector  classifier is: 0.7807486631016043\n",
            "[[73 27]\n",
            " [14 73]]\n",
            "              precision    recall  f1-score   support\n",
            "\n",
            "           0       0.84      0.73      0.78       100\n",
            "           1       0.73      0.84      0.78        87\n",
            "\n",
            "    accuracy                           0.78       187\n",
            "   macro avg       0.78      0.78      0.78       187\n",
            "weighted avg       0.79      0.78      0.78       187\n",
            "\n"
          ]
        }
      ],
      "source": [
        "from sklearn.linear_model import LogisticRegression\n",
        "from sklearn.metrics import accuracy_score\n",
        "from sklearn.metrics import classification_report\n",
        "from sklearn.metrics import confusion_matrix\n",
        "\n",
        "lr=LogisticRegression()\n",
        "lr.fit(x_train,y_train)\n",
        "\n",
        "predlr=lr.predict(x_test)\n",
        "\n",
        "print(f\"Accuracy of support vector  classifier is: {accuracy_score(y_test,predlr )}\")\n",
        "\n",
        "print(confusion_matrix(y_test, predlr))\n",
        "print(classification_report(y_test, predlr))"
      ]
    },
    {
      "cell_type": "code",
      "source": [
        "from sklearn.model_selection import cross_val_score\n",
        "cv_score_for_LR = cross_val_score(lr, x_train, y_train, cv = 10)\n",
        "cv_score_for_LR"
      ],
      "metadata": {
        "colab": {
          "base_uri": "https://localhost:8080/"
        },
        "id": "Ryik9c9l-xig",
        "outputId": "1111eb4b-fb14-4d7e-a6c6-370da45e31eb"
      },
      "execution_count": null,
      "outputs": [
        {
          "output_type": "execute_result",
          "data": {
            "text/plain": [
              "array([0.82666667, 0.76      , 0.76      , 0.81333333, 0.77333333,\n",
              "       0.74324324, 0.7972973 , 0.83783784, 0.78378378, 0.74324324])"
            ]
          },
          "metadata": {},
          "execution_count": 23
        }
      ]
    },
    {
      "cell_type": "code",
      "source": [
        "from statistics import mean\n",
        "print('Accuracy mean and std : %.3f' % (mean(cv_score_for_LR)))"
      ],
      "metadata": {
        "colab": {
          "base_uri": "https://localhost:8080/"
        },
        "id": "1WDpLdJK-8aV",
        "outputId": "15db2159-c16e-486d-8c79-9dbaa945c847"
      },
      "execution_count": null,
      "outputs": [
        {
          "output_type": "stream",
          "name": "stdout",
          "text": [
            "Accuracy mean and std : 0.784\n"
          ]
        }
      ]
    },
    {
      "cell_type": "code",
      "execution_count": null,
      "metadata": {
        "id": "91mGazwI8-E_"
      },
      "outputs": [],
      "source": [
        "#SVC"
      ]
    },
    {
      "cell_type": "code",
      "execution_count": null,
      "metadata": {
        "id": "YlDSmZaE8-FA",
        "colab": {
          "base_uri": "https://localhost:8080/"
        },
        "outputId": "8e1a5a0c-8788-4652-a548-6f4f4d0eadc0"
      },
      "outputs": [
        {
          "output_type": "stream",
          "name": "stdout",
          "text": [
            "0.8877005347593583\n",
            "[[85 15]\n",
            " [ 6 81]]\n",
            "              precision    recall  f1-score   support\n",
            "\n",
            "           0       0.93      0.85      0.89       100\n",
            "           1       0.84      0.93      0.89        87\n",
            "\n",
            "    accuracy                           0.89       187\n",
            "   macro avg       0.89      0.89      0.89       187\n",
            "weighted avg       0.89      0.89      0.89       187\n",
            "\n"
          ]
        }
      ],
      "source": [
        "from sklearn.svm import SVC\n",
        "from sklearn.metrics import accuracy_score\n",
        "modelSVC = SVC()\n",
        "modelSVC.fit(x_train, y_train)\n",
        "#print(modelSVC.score(x_test, y_test))\n",
        "\n",
        "y_pred = modelSVC.predict(x_test)\n",
        "ac = accuracy_score(y_test, y_pred)\n",
        "print(ac)\n",
        "print(confusion_matrix(y_test, y_pred))\n",
        "print(classification_report(y_test, y_pred))"
      ]
    },
    {
      "cell_type": "markdown",
      "metadata": {
        "id": "xN0qbIjp8-FA"
      },
      "source": [
        "### Decision Tree"
      ]
    },
    {
      "cell_type": "code",
      "execution_count": null,
      "metadata": {
        "id": "rVpgIlOP8-FB",
        "colab": {
          "base_uri": "https://localhost:8080/"
        },
        "outputId": "c16874ad-9a29-4f04-af8d-0e287a96c349"
      },
      "outputs": [
        {
          "output_type": "stream",
          "name": "stdout",
          "text": [
            "0.7967914438502673\n",
            "[[78 22]\n",
            " [16 71]]\n",
            "              precision    recall  f1-score   support\n",
            "\n",
            "           0       0.83      0.78      0.80       100\n",
            "           1       0.76      0.82      0.79        87\n",
            "\n",
            "    accuracy                           0.80       187\n",
            "   macro avg       0.80      0.80      0.80       187\n",
            "weighted avg       0.80      0.80      0.80       187\n",
            "\n"
          ]
        }
      ],
      "source": [
        "from sklearn import tree\n",
        "from sklearn.metrics import accuracy_score\n",
        "\n",
        "modelDTC = tree.DecisionTreeClassifier()\n",
        "modelDTC.fit(x_train, y_train)\n",
        "#print(modelDTC.score(x_test_smt, y_test_smt))\n",
        "\n",
        "# Predicting the Test set results\n",
        "y_pred = modelDTC.predict(x_test)\n",
        "ac = accuracy_score(y_test, y_pred)\n",
        "print(ac)\n",
        "print(confusion_matrix(y_test, y_pred))\n",
        "print(classification_report(y_test, y_pred))"
      ]
    },
    {
      "cell_type": "markdown",
      "metadata": {
        "id": "aqh8zHZG8-FC"
      },
      "source": [
        "### Random Forest"
      ]
    },
    {
      "cell_type": "code",
      "execution_count": null,
      "metadata": {
        "id": "MId3aHmi8-FC",
        "colab": {
          "base_uri": "https://localhost:8080/"
        },
        "outputId": "ab25434a-2ac8-4133-84d5-f763f971e535"
      },
      "outputs": [
        {
          "output_type": "stream",
          "name": "stdout",
          "text": [
            "0.9251336898395722\n",
            "[[87 13]\n",
            " [ 1 86]]\n",
            "              precision    recall  f1-score   support\n",
            "\n",
            "           0       0.99      0.87      0.93       100\n",
            "           1       0.87      0.99      0.92        87\n",
            "\n",
            "    accuracy                           0.93       187\n",
            "   macro avg       0.93      0.93      0.93       187\n",
            "weighted avg       0.93      0.93      0.93       187\n",
            "\n"
          ]
        }
      ],
      "source": [
        "from sklearn import ensemble\n",
        "from sklearn.metrics import accuracy_score\n",
        "\n",
        "modelRFC = ensemble.RandomForestClassifier()\n",
        "modelRFC.fit(x_train, y_train)\n",
        "#print(modelRFC.score(x_test, y_test))\n",
        "\n",
        "\n",
        "# Predicting the Test set results\n",
        "y_pred = modelRFC.predict(x_test)\n",
        "ac = accuracy_score(y_test, y_pred)\n",
        "print(ac)\n",
        "print(confusion_matrix(y_test, y_pred))\n",
        "print(classification_report(y_test, y_pred))"
      ]
    },
    {
      "cell_type": "markdown",
      "metadata": {
        "id": "4bmb0TdC8-FC"
      },
      "source": [
        "### Gaussian Naive Bayes"
      ]
    },
    {
      "cell_type": "code",
      "source": [
        "from sklearn.naive_bayes import GaussianNB\n",
        "from sklearn.metrics import accuracy_score\n",
        "\n",
        "modelGNB = GaussianNB()\n",
        "modelGNB.fit(x_train, y_train)\n",
        "#print(modelMNB.score(x_test, y_test))\n",
        "\n",
        "\n",
        "# Predicting the Test set results\n",
        "y_pred = modelGNB.predict(x_test)\n",
        "ac = accuracy_score(y_test, y_pred)\n",
        "print(ac)\n",
        "print(confusion_matrix(y_test, y_pred))\n",
        "print(classification_report(y_test, y_pred))"
      ],
      "metadata": {
        "id": "qDhztbMelN3V",
        "colab": {
          "base_uri": "https://localhost:8080/"
        },
        "outputId": "9b61ebcf-5de4-470a-d899-88f7d058aca3"
      },
      "execution_count": null,
      "outputs": [
        {
          "output_type": "stream",
          "name": "stdout",
          "text": [
            "0.6684491978609626\n",
            "[[94  6]\n",
            " [56 31]]\n",
            "              precision    recall  f1-score   support\n",
            "\n",
            "           0       0.63      0.94      0.75       100\n",
            "           1       0.84      0.36      0.50        87\n",
            "\n",
            "    accuracy                           0.67       187\n",
            "   macro avg       0.73      0.65      0.63       187\n",
            "weighted avg       0.72      0.67      0.63       187\n",
            "\n"
          ]
        }
      ]
    },
    {
      "cell_type": "markdown",
      "metadata": {
        "id": "xAE7Nw9t8-FD"
      },
      "source": [
        "### KNN"
      ]
    },
    {
      "cell_type": "code",
      "execution_count": null,
      "metadata": {
        "id": "Ut2kjXUv8-FD",
        "colab": {
          "base_uri": "https://localhost:8080/"
        },
        "outputId": "02a2ea70-70b0-415e-e5cf-c3cb75ae062d"
      },
      "outputs": [
        {
          "output_type": "stream",
          "name": "stdout",
          "text": [
            "0.8716577540106952\n",
            "[[96  4]\n",
            " [20 67]]\n",
            "              precision    recall  f1-score   support\n",
            "\n",
            "           0       0.83      0.96      0.89       100\n",
            "           1       0.94      0.77      0.85        87\n",
            "\n",
            "    accuracy                           0.87       187\n",
            "   macro avg       0.89      0.87      0.87       187\n",
            "weighted avg       0.88      0.87      0.87       187\n",
            "\n"
          ]
        }
      ],
      "source": [
        "from sklearn.neighbors import KNeighborsClassifier\n",
        "from sklearn.metrics import accuracy_score\n",
        "\n",
        "modelKNN = KNeighborsClassifier(n_neighbors = 5, weights = 'uniform', metric = 'minkowski', p = 2)\n",
        "modelKNN.fit(x_train, y_train)\n",
        "#print(modelKNN.score(x_test_smt, y_test_smt))\n",
        "\n",
        "# Predicting the Test set results\n",
        "y_pred = modelKNN.predict(x_test)\n",
        "ac = accuracy_score(y_test, y_pred)\n",
        "print(ac)\n",
        "print(confusion_matrix(y_test, y_pred))\n",
        "print(classification_report(y_test, y_pred))"
      ]
    },
    {
      "cell_type": "markdown",
      "metadata": {
        "id": "Pp3JeGDG8-FD"
      },
      "source": [
        "### Gradiant Boosting"
      ]
    },
    {
      "cell_type": "code",
      "execution_count": null,
      "metadata": {
        "id": "TKTfFswG8-FE",
        "colab": {
          "base_uri": "https://localhost:8080/"
        },
        "outputId": "81a09a74-5636-4b73-bbe3-70fb28418a7c"
      },
      "outputs": [
        {
          "output_type": "stream",
          "name": "stdout",
          "text": [
            "0.8983957219251337\n",
            "[[84 16]\n",
            " [ 3 84]]\n",
            "              precision    recall  f1-score   support\n",
            "\n",
            "           0       0.97      0.84      0.90       100\n",
            "           1       0.84      0.97      0.90        87\n",
            "\n",
            "    accuracy                           0.90       187\n",
            "   macro avg       0.90      0.90      0.90       187\n",
            "weighted avg       0.91      0.90      0.90       187\n",
            "\n"
          ]
        }
      ],
      "source": [
        "modelGBC = ensemble.GradientBoostingClassifier(max_depth = 3)\n",
        "modelGBC.fit(x_train, y_train)\n",
        "#print(modelGBC.score(x_test_smt, y_test_smt))\n",
        "\n",
        "\n",
        "# Predicting the Test set results\n",
        "y_pred = modelGBC.predict(x_test)\n",
        "ac = accuracy_score(y_test, y_pred)\n",
        "print(ac)\n",
        "print(confusion_matrix(y_test, y_pred))\n",
        "print(classification_report(y_test, y_pred))"
      ]
    },
    {
      "cell_type": "markdown",
      "metadata": {
        "id": "DyFuM8Qg8-FE"
      },
      "source": [
        "### AdaBoost"
      ]
    },
    {
      "cell_type": "code",
      "execution_count": null,
      "metadata": {
        "id": "UXLsK3q18-FE",
        "colab": {
          "base_uri": "https://localhost:8080/"
        },
        "outputId": "5a8603e5-daae-4309-ffde-ff3b27e874bb"
      },
      "outputs": [
        {
          "output_type": "stream",
          "name": "stdout",
          "text": [
            "0.8288770053475936\n",
            "[[77 23]\n",
            " [ 9 78]]\n",
            "              precision    recall  f1-score   support\n",
            "\n",
            "           0       0.90      0.77      0.83       100\n",
            "           1       0.77      0.90      0.83        87\n",
            "\n",
            "    accuracy                           0.83       187\n",
            "   macro avg       0.83      0.83      0.83       187\n",
            "weighted avg       0.84      0.83      0.83       187\n",
            "\n"
          ]
        }
      ],
      "source": [
        "from sklearn.ensemble import AdaBoostClassifier\n",
        "from sklearn.metrics import accuracy_score\n",
        "\n",
        "modelABC = AdaBoostClassifier(random_state = 96)\n",
        "modelABC.fit(x_train, y_train)\n",
        "#print(modelABC.score(x_test_smt, y_test_smt))\n",
        "\n",
        "# Predicting the Test set results\n",
        "y_pred = modelABC.predict(x_test)\n",
        "ac = accuracy_score(y_test, y_pred)\n",
        "print(ac)\n",
        "print(confusion_matrix(y_test, y_pred))\n",
        "print(classification_report(y_test, y_pred))"
      ]
    },
    {
      "cell_type": "markdown",
      "metadata": {
        "id": "JImZC8Xl8-FE"
      },
      "source": [
        "### Stochastic Gradient Descent"
      ]
    },
    {
      "cell_type": "code",
      "execution_count": null,
      "metadata": {
        "id": "zAYxfTLq8-FE",
        "colab": {
          "base_uri": "https://localhost:8080/"
        },
        "outputId": "fdb66667-19c8-4e7d-e8df-daa17453eec1"
      },
      "outputs": [
        {
          "output_type": "stream",
          "name": "stdout",
          "text": [
            "0.786096256684492\n",
            "[[80 20]\n",
            " [20 67]]\n",
            "              precision    recall  f1-score   support\n",
            "\n",
            "           0       0.80      0.80      0.80       100\n",
            "           1       0.77      0.77      0.77        87\n",
            "\n",
            "    accuracy                           0.79       187\n",
            "   macro avg       0.79      0.79      0.79       187\n",
            "weighted avg       0.79      0.79      0.79       187\n",
            "\n"
          ]
        }
      ],
      "source": [
        "from sklearn.linear_model import SGDClassifier\n",
        "from sklearn.metrics import accuracy_score\n",
        "# loss = 'hinge'\n",
        "modelSGDC = SGDClassifier()#loss = 'log', penalty = \"l1\", max_iter = 10\n",
        "modelSGDC.fit(x_train, y_train)\n",
        "#print(modelSGDC.score(x_test_smt, y_test_smt))\n",
        "\n",
        "# Predicting the Test set results\n",
        "y_pred = modelSGDC.predict(x_test)\n",
        "ac = accuracy_score(y_test, y_pred)\n",
        "print(ac)\n",
        "print(confusion_matrix(y_test, y_pred))\n",
        "print(classification_report(y_test, y_pred))"
      ]
    },
    {
      "cell_type": "markdown",
      "metadata": {
        "id": "1xMhmo6u8-FF"
      },
      "source": [
        "#### XGBoost"
      ]
    },
    {
      "cell_type": "code",
      "execution_count": null,
      "metadata": {
        "id": "SiNh7eLI8-FF",
        "colab": {
          "base_uri": "https://localhost:8080/"
        },
        "outputId": "e9ed271b-f56f-44cc-fc47-32bf4a21caf6"
      },
      "outputs": [
        {
          "output_type": "stream",
          "name": "stdout",
          "text": [
            "Accuracy of support vector  classifier is: 0.9197860962566845\n",
            "[[87 13]\n",
            " [ 2 85]]\n",
            "              precision    recall  f1-score   support\n",
            "\n",
            "           0       0.98      0.87      0.92       100\n",
            "           1       0.87      0.98      0.92        87\n",
            "\n",
            "    accuracy                           0.92       187\n",
            "   macro avg       0.92      0.92      0.92       187\n",
            "weighted avg       0.93      0.92      0.92       187\n",
            "\n"
          ]
        }
      ],
      "source": [
        "from xgboost import XGBClassifier\n",
        "xg = XGBClassifier()\n",
        "xg_fit=xg.fit(x_train, y_train)\n",
        "predxg = xg_fit.predict(x_test)\n",
        "\n",
        "print(f\"Accuracy of support vector  classifier is: {accuracy_score(y_test,predxg )}\")\n",
        "\n",
        "print(confusion_matrix(y_test, predxg))\n",
        "print(classification_report(y_test, predxg))"
      ]
    },
    {
      "cell_type": "code",
      "source": [],
      "metadata": {
        "id": "WhJfgs4t33fm"
      },
      "execution_count": null,
      "outputs": []
    },
    {
      "cell_type": "code",
      "source": [
        "from sklearn.ensemble import RandomForestClassifier\n",
        "from sklearn.linear_model import LogisticRegression\n",
        "from sklearn.ensemble import StackingClassifier\n",
        "from sklearn.ensemble import BaggingClassifier\n",
        "\n",
        "estimators = [\n",
        "         ('rf', RandomForestClassifier(n_estimators=100, random_state=42)),\n",
        "         ('svc',SVC(random_state = 42)),\n",
        "         ('xgb',XGBClassifier(n_estimators=100, random_state=42)),\n",
        "         #('mlp', MLPClassifier()),\n",
        "         #('abc', modelABC),\n",
        "         #('lr', LogisticRegression(solver='liblinear'))\n",
        "    ]\n",
        "clf = StackingClassifier(\n",
        "     #estimators=estimators, final_estimator = LogisticRegression(solver='liblinear')\n",
        "     estimators=estimators, final_estimator = RandomForestClassifier(n_estimators=100, random_state=42)\n",
        "     )\n",
        "\n",
        "\n",
        "clf.fit(x_train, y_train).score(x_test, y_test)\n",
        "\n",
        "# Predicting the Test set results\n",
        "y_pred = clf.predict(x_test)\n",
        "ac = accuracy_score(y_test, y_pred)\n",
        "print(ac)\n",
        "print(confusion_matrix(y_test, y_pred))\n",
        "print(classification_report(y_test, y_pred))"
      ],
      "metadata": {
        "colab": {
          "base_uri": "https://localhost:8080/"
        },
        "id": "iiy3jgJK33pG",
        "outputId": "003941fe-dca5-48df-d26a-c9654f5b35e6"
      },
      "execution_count": null,
      "outputs": [
        {
          "output_type": "stream",
          "name": "stdout",
          "text": [
            "0.9090909090909091\n",
            "[[87 13]\n",
            " [ 4 83]]\n",
            "              precision    recall  f1-score   support\n",
            "\n",
            "           0       0.96      0.87      0.91       100\n",
            "           1       0.86      0.95      0.91        87\n",
            "\n",
            "    accuracy                           0.91       187\n",
            "   macro avg       0.91      0.91      0.91       187\n",
            "weighted avg       0.91      0.91      0.91       187\n",
            "\n"
          ]
        }
      ]
    },
    {
      "cell_type": "code",
      "source": [],
      "metadata": {
        "id": "aelrO2ZKz8E7"
      },
      "execution_count": null,
      "outputs": []
    }
  ],
  "metadata": {
    "kernelspec": {
      "display_name": "Python 3",
      "language": "python",
      "name": "python3"
    },
    "language_info": {
      "codemirror_mode": {
        "name": "ipython",
        "version": 3
      },
      "file_extension": ".py",
      "mimetype": "text/x-python",
      "name": "python",
      "nbconvert_exporter": "python",
      "pygments_lexer": "ipython3",
      "version": "3.7.6"
    },
    "colab": {
      "provenance": [],
      "include_colab_link": true
    },
    "gpuClass": "standard",
    "accelerator": "GPU"
  },
  "nbformat": 4,
  "nbformat_minor": 0
}