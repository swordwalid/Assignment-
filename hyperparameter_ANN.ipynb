{
  "nbformat": 4,
  "nbformat_minor": 0,
  "metadata": {
    "colab": {
      "provenance": [],
      "authorship_tag": "ABX9TyONLxfzmzePWJl98AlbChJG",
      "include_colab_link": true
    },
    "kernelspec": {
      "name": "python3",
      "display_name": "Python 3"
    },
    "language_info": {
      "name": "python"
    }
  },
  "cells": [
    {
      "cell_type": "markdown",
      "metadata": {
        "id": "view-in-github",
        "colab_type": "text"
      },
      "source": [
        "<a href=\"https://colab.research.google.com/github/swordwalid/ML-Projects-/blob/main/hyperparameter_ANN.ipynb\" target=\"_parent\"><img src=\"https://colab.research.google.com/assets/colab-badge.svg\" alt=\"Open In Colab\"/></a>"
      ]
    },
    {
      "cell_type": "code",
      "execution_count": null,
      "metadata": {
        "colab": {
          "base_uri": "https://localhost:8080/"
        },
        "id": "JkvDXYZemjrw",
        "outputId": "8cdf0866-66b2-4850-9a50-6eac9611519b"
      },
      "outputs": [
        {
          "output_type": "stream",
          "name": "stdout",
          "text": [
            "\u001b[K     |████████████████████████████████| 135 kB 24.9 MB/s \n",
            "\u001b[K     |████████████████████████████████| 1.6 MB 48.5 MB/s \n",
            "\u001b[?25h"
          ]
        }
      ],
      "source": [
        "!pip install keras-tuner -q"
      ]
    },
    {
      "cell_type": "code",
      "source": [
        "import pandas as pd\n",
        "from tensorflow import keras\n",
        "from tensorflow.keras import layers\n",
        "from keras_tuner.tuners import RandomSearch\n",
        "import numpy as np"
      ],
      "metadata": {
        "id": "1vy-JOgE0tN5"
      },
      "execution_count": null,
      "outputs": []
    },
    {
      "cell_type": "code",
      "source": [
        "df=pd.read_csv('Real_Combine.csv')"
      ],
      "metadata": {
        "id": "IH0vNMzs5rNE"
      },
      "execution_count": null,
      "outputs": []
    },
    {
      "cell_type": "code",
      "source": [
        "df.head()"
      ],
      "metadata": {
        "colab": {
          "base_uri": "https://localhost:8080/",
          "height": 206
        },
        "id": "YtmDA_XU54Hs",
        "outputId": "7d797b17-8cd5-4b29-8e27-5cdf92365bc6"
      },
      "execution_count": null,
      "outputs": [
        {
          "output_type": "execute_result",
          "data": {
            "text/plain": [
              "      T    TM   Tm     SLP     H   VV    V    VM      PM 2.5\n",
              "0   7.4   9.8  4.8  1017.6  93.0  0.5  4.3   9.4  219.720833\n",
              "1   7.8  12.7  4.4  1018.5  87.0  0.6  4.4  11.1  182.187500\n",
              "2   6.7  13.4  2.4  1019.4  82.0  0.6  4.8  11.1  154.037500\n",
              "3   8.6  15.5  3.3  1018.7  72.0  0.8  8.1  20.6  223.208333\n",
              "4  12.4  20.9  4.4  1017.3  61.0  1.3  8.7  22.2  200.645833"
            ],
            "text/html": [
              "\n",
              "  <div id=\"df-b8907c3e-60cd-4245-a53c-642492519206\">\n",
              "    <div class=\"colab-df-container\">\n",
              "      <div>\n",
              "<style scoped>\n",
              "    .dataframe tbody tr th:only-of-type {\n",
              "        vertical-align: middle;\n",
              "    }\n",
              "\n",
              "    .dataframe tbody tr th {\n",
              "        vertical-align: top;\n",
              "    }\n",
              "\n",
              "    .dataframe thead th {\n",
              "        text-align: right;\n",
              "    }\n",
              "</style>\n",
              "<table border=\"1\" class=\"dataframe\">\n",
              "  <thead>\n",
              "    <tr style=\"text-align: right;\">\n",
              "      <th></th>\n",
              "      <th>T</th>\n",
              "      <th>TM</th>\n",
              "      <th>Tm</th>\n",
              "      <th>SLP</th>\n",
              "      <th>H</th>\n",
              "      <th>VV</th>\n",
              "      <th>V</th>\n",
              "      <th>VM</th>\n",
              "      <th>PM 2.5</th>\n",
              "    </tr>\n",
              "  </thead>\n",
              "  <tbody>\n",
              "    <tr>\n",
              "      <th>0</th>\n",
              "      <td>7.4</td>\n",
              "      <td>9.8</td>\n",
              "      <td>4.8</td>\n",
              "      <td>1017.6</td>\n",
              "      <td>93.0</td>\n",
              "      <td>0.5</td>\n",
              "      <td>4.3</td>\n",
              "      <td>9.4</td>\n",
              "      <td>219.720833</td>\n",
              "    </tr>\n",
              "    <tr>\n",
              "      <th>1</th>\n",
              "      <td>7.8</td>\n",
              "      <td>12.7</td>\n",
              "      <td>4.4</td>\n",
              "      <td>1018.5</td>\n",
              "      <td>87.0</td>\n",
              "      <td>0.6</td>\n",
              "      <td>4.4</td>\n",
              "      <td>11.1</td>\n",
              "      <td>182.187500</td>\n",
              "    </tr>\n",
              "    <tr>\n",
              "      <th>2</th>\n",
              "      <td>6.7</td>\n",
              "      <td>13.4</td>\n",
              "      <td>2.4</td>\n",
              "      <td>1019.4</td>\n",
              "      <td>82.0</td>\n",
              "      <td>0.6</td>\n",
              "      <td>4.8</td>\n",
              "      <td>11.1</td>\n",
              "      <td>154.037500</td>\n",
              "    </tr>\n",
              "    <tr>\n",
              "      <th>3</th>\n",
              "      <td>8.6</td>\n",
              "      <td>15.5</td>\n",
              "      <td>3.3</td>\n",
              "      <td>1018.7</td>\n",
              "      <td>72.0</td>\n",
              "      <td>0.8</td>\n",
              "      <td>8.1</td>\n",
              "      <td>20.6</td>\n",
              "      <td>223.208333</td>\n",
              "    </tr>\n",
              "    <tr>\n",
              "      <th>4</th>\n",
              "      <td>12.4</td>\n",
              "      <td>20.9</td>\n",
              "      <td>4.4</td>\n",
              "      <td>1017.3</td>\n",
              "      <td>61.0</td>\n",
              "      <td>1.3</td>\n",
              "      <td>8.7</td>\n",
              "      <td>22.2</td>\n",
              "      <td>200.645833</td>\n",
              "    </tr>\n",
              "  </tbody>\n",
              "</table>\n",
              "</div>\n",
              "      <button class=\"colab-df-convert\" onclick=\"convertToInteractive('df-b8907c3e-60cd-4245-a53c-642492519206')\"\n",
              "              title=\"Convert this dataframe to an interactive table.\"\n",
              "              style=\"display:none;\">\n",
              "        \n",
              "  <svg xmlns=\"http://www.w3.org/2000/svg\" height=\"24px\"viewBox=\"0 0 24 24\"\n",
              "       width=\"24px\">\n",
              "    <path d=\"M0 0h24v24H0V0z\" fill=\"none\"/>\n",
              "    <path d=\"M18.56 5.44l.94 2.06.94-2.06 2.06-.94-2.06-.94-.94-2.06-.94 2.06-2.06.94zm-11 1L8.5 8.5l.94-2.06 2.06-.94-2.06-.94L8.5 2.5l-.94 2.06-2.06.94zm10 10l.94 2.06.94-2.06 2.06-.94-2.06-.94-.94-2.06-.94 2.06-2.06.94z\"/><path d=\"M17.41 7.96l-1.37-1.37c-.4-.4-.92-.59-1.43-.59-.52 0-1.04.2-1.43.59L10.3 9.45l-7.72 7.72c-.78.78-.78 2.05 0 2.83L4 21.41c.39.39.9.59 1.41.59.51 0 1.02-.2 1.41-.59l7.78-7.78 2.81-2.81c.8-.78.8-2.07 0-2.86zM5.41 20L4 18.59l7.72-7.72 1.47 1.35L5.41 20z\"/>\n",
              "  </svg>\n",
              "      </button>\n",
              "      \n",
              "  <style>\n",
              "    .colab-df-container {\n",
              "      display:flex;\n",
              "      flex-wrap:wrap;\n",
              "      gap: 12px;\n",
              "    }\n",
              "\n",
              "    .colab-df-convert {\n",
              "      background-color: #E8F0FE;\n",
              "      border: none;\n",
              "      border-radius: 50%;\n",
              "      cursor: pointer;\n",
              "      display: none;\n",
              "      fill: #1967D2;\n",
              "      height: 32px;\n",
              "      padding: 0 0 0 0;\n",
              "      width: 32px;\n",
              "    }\n",
              "\n",
              "    .colab-df-convert:hover {\n",
              "      background-color: #E2EBFA;\n",
              "      box-shadow: 0px 1px 2px rgba(60, 64, 67, 0.3), 0px 1px 3px 1px rgba(60, 64, 67, 0.15);\n",
              "      fill: #174EA6;\n",
              "    }\n",
              "\n",
              "    [theme=dark] .colab-df-convert {\n",
              "      background-color: #3B4455;\n",
              "      fill: #D2E3FC;\n",
              "    }\n",
              "\n",
              "    [theme=dark] .colab-df-convert:hover {\n",
              "      background-color: #434B5C;\n",
              "      box-shadow: 0px 1px 3px 1px rgba(0, 0, 0, 0.15);\n",
              "      filter: drop-shadow(0px 1px 2px rgba(0, 0, 0, 0.3));\n",
              "      fill: #FFFFFF;\n",
              "    }\n",
              "  </style>\n",
              "\n",
              "      <script>\n",
              "        const buttonEl =\n",
              "          document.querySelector('#df-b8907c3e-60cd-4245-a53c-642492519206 button.colab-df-convert');\n",
              "        buttonEl.style.display =\n",
              "          google.colab.kernel.accessAllowed ? 'block' : 'none';\n",
              "\n",
              "        async function convertToInteractive(key) {\n",
              "          const element = document.querySelector('#df-b8907c3e-60cd-4245-a53c-642492519206');\n",
              "          const dataTable =\n",
              "            await google.colab.kernel.invokeFunction('convertToInteractive',\n",
              "                                                     [key], {});\n",
              "          if (!dataTable) return;\n",
              "\n",
              "          const docLinkHtml = 'Like what you see? Visit the ' +\n",
              "            '<a target=\"_blank\" href=https://colab.research.google.com/notebooks/data_table.ipynb>data table notebook</a>'\n",
              "            + ' to learn more about interactive tables.';\n",
              "          element.innerHTML = '';\n",
              "          dataTable['output_type'] = 'display_data';\n",
              "          await google.colab.output.renderOutput(dataTable, element);\n",
              "          const docLink = document.createElement('div');\n",
              "          docLink.innerHTML = docLinkHtml;\n",
              "          element.appendChild(docLink);\n",
              "        }\n",
              "      </script>\n",
              "    </div>\n",
              "  </div>\n",
              "  "
            ]
          },
          "metadata": {},
          "execution_count": 5
        }
      ]
    },
    {
      "cell_type": "code",
      "source": [
        "for i in range(0,df.shape[0]):\n",
        "  if np.isnan(df.iloc[i]['PM 2.5']):\n",
        "    print(i)\n",
        "  # else:\n",
        "  #   print(\"no num\")\n",
        "# df.loc[0,'PM 2.5']\n",
        "# if (df['PM 2.5']==np.NaN):\n",
        "#   print('Yes')\n",
        ""
      ],
      "metadata": {
        "colab": {
          "base_uri": "https://localhost:8080/"
        },
        "id": "OBogNm_3OQuY",
        "outputId": "8eb05cb6-b016-4aa9-d38e-a87ab47d9297"
      },
      "execution_count": null,
      "outputs": [
        {
          "output_type": "stream",
          "name": "stdout",
          "text": [
            "184\n"
          ]
        }
      ]
    },
    {
      "cell_type": "code",
      "source": [
        "# df[pd.to_numeric(df['PM 2.5'],errors='coerce').isnull()]\n",
        "# df.iloc[184]['PM 2.5']\n",
        "# df[df['PM 2.5'].isna()]\n",
        "df.drop(labels=184,axis=0,inplace=True)"
      ],
      "metadata": {
        "id": "Tcs99jAGZd9A"
      },
      "execution_count": null,
      "outputs": []
    },
    {
      "cell_type": "code",
      "source": [
        "missing_vals=['NA','',None,np.NaN]\n",
        "missing=df.isin(missing_vals)\n",
        "missing.sum()"
      ],
      "metadata": {
        "colab": {
          "base_uri": "https://localhost:8080/"
        },
        "id": "9U9ScZ8VT03u",
        "outputId": "e14f2eeb-5455-48e6-bc01-aac5cb90ad72"
      },
      "execution_count": null,
      "outputs": [
        {
          "output_type": "execute_result",
          "data": {
            "text/plain": [
              "T         0\n",
              "TM        0\n",
              "Tm        0\n",
              "SLP       0\n",
              "H         0\n",
              "VV        0\n",
              "V         0\n",
              "VM        0\n",
              "PM 2.5    0\n",
              "dtype: int64"
            ]
          },
          "metadata": {},
          "execution_count": 10
        }
      ]
    },
    {
      "cell_type": "code",
      "source": [
        "df['PM 2.5'].isnull().sum()"
      ],
      "metadata": {
        "colab": {
          "base_uri": "https://localhost:8080/"
        },
        "id": "D3gg11VBSVj6",
        "outputId": "b947a354-41af-4146-9926-460c43061f12"
      },
      "execution_count": null,
      "outputs": [
        {
          "output_type": "execute_result",
          "data": {
            "text/plain": [
              "0"
            ]
          },
          "metadata": {},
          "execution_count": 11
        }
      ]
    },
    {
      "cell_type": "code",
      "source": [
        "X=df.iloc[:,:-1]\n",
        "Y=df.iloc[:,-1]"
      ],
      "metadata": {
        "id": "grcnorfZ56Vw"
      },
      "execution_count": null,
      "outputs": []
    },
    {
      "cell_type": "code",
      "source": [
        "#creating model\n",
        "df.shape[0]"
      ],
      "metadata": {
        "id": "q2dFU3Xi6E4K",
        "colab": {
          "base_uri": "https://localhost:8080/"
        },
        "outputId": "458362ae-7d18-4554-a54e-d0bf2933a689"
      },
      "execution_count": null,
      "outputs": [
        {
          "output_type": "execute_result",
          "data": {
            "text/plain": [
              "1092"
            ]
          },
          "metadata": {},
          "execution_count": 49
        }
      ]
    },
    {
      "cell_type": "code",
      "source": [
        "\n",
        "def build_hyp_model(hp):\n",
        "  model=keras.Sequential()\n",
        "  for i in range(hp.Int('num_layers',2,20)):\n",
        "    model.add(layers.Dense(units=hp.Int('units_'+str(i),min_value=30,max_value=100,step=15),\n",
        "                           activation=hp.Choice('activation',['relu'])))\n",
        "    model.add(layers.Dense(1,activation='linear'\n",
        "                           ))\n",
        "    #learning_rate=hp.Float('lr',min_value=1e-4,max_value=1e-2,sampling=\"log\")\n",
        "    model.compile(\n",
        "        optimizer=keras.optimizers.Adam(\n",
        "            hp.Choice('learning_rate', [1e-2, 1e-3, 1e-4])),\n",
        "        loss='mean_absolute_error',\n",
        "        metrics=['mean_absolute_error'])\n",
        "    return model"
      ],
      "metadata": {
        "id": "QDuuazFA6f1P"
      },
      "execution_count": null,
      "outputs": []
    },
    {
      "cell_type": "code",
      "source": [
        "import keras_tuner\n",
        "build_hyp_model(keras_tuner.HyperParameters())"
      ],
      "metadata": {
        "colab": {
          "base_uri": "https://localhost:8080/"
        },
        "id": "PYlFlHNb-e-1",
        "outputId": "01297416-2de0-4a78-e191-332336f298c6"
      },
      "execution_count": null,
      "outputs": [
        {
          "output_type": "execute_result",
          "data": {
            "text/plain": [
              "<keras.engine.sequential.Sequential at 0x7f1d92477550>"
            ]
          },
          "metadata": {},
          "execution_count": 23
        }
      ]
    },
    {
      "cell_type": "code",
      "source": [
        "tuner=RandomSearch(hypermodel=build_hyp_model,\n",
        "                   objective='val_mean_absolute_error',\n",
        "                   max_trials=10,\n",
        "                   executions_per_trial=3,\n",
        "                   directory='my_project',\n",
        "                   project_name='hyperparameter_ANN')"
      ],
      "metadata": {
        "id": "n9B2_K55-qrs"
      },
      "execution_count": null,
      "outputs": []
    },
    {
      "cell_type": "code",
      "source": [
        "tuner.search_space_summary()"
      ],
      "metadata": {
        "colab": {
          "base_uri": "https://localhost:8080/"
        },
        "id": "kHnhepp3AdDT",
        "outputId": "c581edd3-9cc6-48dc-da36-8aa509f29c8a"
      },
      "execution_count": null,
      "outputs": [
        {
          "output_type": "stream",
          "name": "stdout",
          "text": [
            "Search space summary\n",
            "Default search space size: 4\n",
            "num_layers (Int)\n",
            "{'default': None, 'conditions': [], 'min_value': 2, 'max_value': 20, 'step': 1, 'sampling': None}\n",
            "units_0 (Int)\n",
            "{'default': None, 'conditions': [], 'min_value': 30, 'max_value': 100, 'step': 15, 'sampling': None}\n",
            "activation (Choice)\n",
            "{'default': 'relu', 'conditions': [], 'values': ['relu'], 'ordered': False}\n",
            "learning_rate (Choice)\n",
            "{'default': 0.01, 'conditions': [], 'values': [0.01, 0.001, 0.0001], 'ordered': True}\n"
          ]
        }
      ]
    },
    {
      "cell_type": "code",
      "source": [
        "from sklearn.model_selection import train_test_split\n",
        "X_train, X_test, y_train, y_test = train_test_split(X, Y, test_size=0.3, random_state=0)"
      ],
      "metadata": {
        "id": "U7wR0c4oAhYN"
      },
      "execution_count": null,
      "outputs": []
    },
    {
      "cell_type": "code",
      "source": [
        "tuner.search(X_train, y_train,\n",
        "             epochs=20,\n",
        "             validation_data=(X_test, y_test))"
      ],
      "metadata": {
        "id": "kwhZWTCcBOMt",
        "colab": {
          "base_uri": "https://localhost:8080/"
        },
        "outputId": "f175def6-cf67-4eed-caf1-ca7b1050ccbe"
      },
      "execution_count": null,
      "outputs": [
        {
          "output_type": "stream",
          "name": "stdout",
          "text": [
            "Trial 10 Complete [00h 00m 09s]\n",
            "val_mean_absolute_error: 64.12756220499675\n",
            "\n",
            "Best val_mean_absolute_error So Far: 45.82062530517578\n",
            "Total elapsed time: 00h 01m 29s\n"
          ]
        }
      ]
    },
    {
      "cell_type": "code",
      "source": [
        "tuner.results_summary()"
      ],
      "metadata": {
        "colab": {
          "base_uri": "https://localhost:8080/"
        },
        "id": "pN__N-60BTmK",
        "outputId": "ab0f6e18-ff2a-43f0-a3a4-ee2555a8c036"
      },
      "execution_count": null,
      "outputs": [
        {
          "output_type": "stream",
          "name": "stdout",
          "text": [
            "Results summary\n",
            "Results in my_project/hyperparameter_ANN\n",
            "Showing 10 best trials\n",
            "<keras_tuner.engine.objective.Objective object at 0x7f1d91173210>\n",
            "Trial summary\n",
            "Hyperparameters:\n",
            "num_layers: 15\n",
            "units_0: 45\n",
            "activation: relu\n",
            "learning_rate: 0.01\n",
            "Score: 45.82062530517578\n",
            "Trial summary\n",
            "Hyperparameters:\n",
            "num_layers: 5\n",
            "units_0: 75\n",
            "activation: relu\n",
            "learning_rate: 0.01\n",
            "Score: 45.851802825927734\n",
            "Trial summary\n",
            "Hyperparameters:\n",
            "num_layers: 14\n",
            "units_0: 60\n",
            "activation: relu\n",
            "learning_rate: 0.001\n",
            "Score: 54.47786966959635\n",
            "Trial summary\n",
            "Hyperparameters:\n",
            "num_layers: 7\n",
            "units_0: 45\n",
            "activation: relu\n",
            "learning_rate: 0.001\n",
            "Score: 55.657118479410805\n",
            "Trial summary\n",
            "Hyperparameters:\n",
            "num_layers: 3\n",
            "units_0: 75\n",
            "activation: relu\n",
            "learning_rate: 0.0001\n",
            "Score: 63.663673400878906\n",
            "Trial summary\n",
            "Hyperparameters:\n",
            "num_layers: 17\n",
            "units_0: 60\n",
            "activation: relu\n",
            "learning_rate: 0.0001\n",
            "Score: 64.12756220499675\n",
            "Trial summary\n",
            "Hyperparameters:\n",
            "num_layers: 10\n",
            "units_0: 75\n",
            "activation: relu\n",
            "learning_rate: 0.0001\n",
            "Score: 64.44696299235027\n",
            "Trial summary\n",
            "Hyperparameters:\n",
            "num_layers: 8\n",
            "units_0: 45\n",
            "activation: relu\n",
            "learning_rate: 0.0001\n",
            "Score: 64.55332946777344\n",
            "Trial summary\n",
            "Hyperparameters:\n",
            "num_layers: 8\n",
            "units_0: 60\n",
            "activation: relu\n",
            "learning_rate: 0.0001\n",
            "Score: 65.63541920979817\n",
            "Trial summary\n",
            "Hyperparameters:\n",
            "num_layers: 10\n",
            "units_0: 30\n",
            "activation: relu\n",
            "learning_rate: 0.0001\n",
            "Score: 66.55230204264323\n"
          ]
        }
      ]
    },
    {
      "cell_type": "code",
      "source": [
        "models=tuner.get_best_models(num_models=2)\n",
        "best_model=models[0]\n",
        "#build model\n",
        "best_model.build(input_shape=(None,X_train.shape[0],X_train.shape[1] ))\n",
        "best_model.summary()"
      ],
      "metadata": {
        "id": "jZpSbU2YBxCq",
        "colab": {
          "base_uri": "https://localhost:8080/"
        },
        "outputId": "edaed7f8-1dd6-414d-b834-2244a0dbb9b4"
      },
      "execution_count": null,
      "outputs": [
        {
          "output_type": "stream",
          "name": "stdout",
          "text": [
            "Model: \"sequential\"\n",
            "_________________________________________________________________\n",
            " Layer (type)                Output Shape              Param #   \n",
            "=================================================================\n",
            " dense (Dense)               (None, 764, 45)           405       \n",
            "                                                                 \n",
            " dense_1 (Dense)             (None, 764, 1)            46        \n",
            "                                                                 \n",
            "=================================================================\n",
            "Total params: 451\n",
            "Trainable params: 451\n",
            "Non-trainable params: 0\n",
            "_________________________________________________________________\n"
          ]
        },
        {
          "output_type": "stream",
          "name": "stderr",
          "text": [
            "WARNING:tensorflow:Detecting that an object or model or tf.train.Checkpoint is being deleted with unrestored values. See the following logs for the specific values in question. To silence these warnings, use `status.expect_partial()`. See https://www.tensorflow.org/api_docs/python/tf/train/Checkpoint#restorefor details about the status object returned by the restore function.\n"
          ]
        }
      ]
    },
    {
      "cell_type": "code",
      "source": [
        "#If you want to train the model with the entire dataset, you may retrieve the best hyperparameters and retrain the model by yourself."
      ],
      "metadata": {
        "id": "XUKLcL9aeOR1"
      },
      "execution_count": null,
      "outputs": []
    },
    {
      "cell_type": "code",
      "source": [
        "best_hps = tuner.get_best_hyperparameters(5)\n",
        "# Build the model with the best hp.\n",
        "model = build_hyp_model(best_hps[0])\n",
        "# Fit with the entire dataset.\n",
        "x_all = pd.concat((X_train, X_test))\n",
        "y_all = pd.concat((y_train, y_test))\n",
        "model.fit(x=x_all, y=y_all, epochs=100)\n"
      ],
      "metadata": {
        "colab": {
          "base_uri": "https://localhost:8080/"
        },
        "id": "hileD6VEglzU",
        "outputId": "958735b1-12ed-44c3-d7a2-da29ddb705a5"
      },
      "execution_count": null,
      "outputs": [
        {
          "output_type": "stream",
          "name": "stdout",
          "text": [
            "Epoch 1/100\n",
            "35/35 [==============================] - 0s 2ms/step - loss: 66.1629 - mean_absolute_error: 66.1629\n",
            "Epoch 2/100\n",
            "35/35 [==============================] - 0s 1ms/step - loss: 58.0320 - mean_absolute_error: 58.0320\n",
            "Epoch 3/100\n",
            "35/35 [==============================] - 0s 2ms/step - loss: 53.0037 - mean_absolute_error: 53.0037\n",
            "Epoch 4/100\n",
            "35/35 [==============================] - 0s 2ms/step - loss: 50.5044 - mean_absolute_error: 50.5044\n",
            "Epoch 5/100\n",
            "35/35 [==============================] - 0s 2ms/step - loss: 49.0778 - mean_absolute_error: 49.0778\n",
            "Epoch 6/100\n",
            "35/35 [==============================] - 0s 2ms/step - loss: 47.6213 - mean_absolute_error: 47.6213\n",
            "Epoch 7/100\n",
            "35/35 [==============================] - 0s 1ms/step - loss: 46.7056 - mean_absolute_error: 46.7056\n",
            "Epoch 8/100\n",
            "35/35 [==============================] - 0s 2ms/step - loss: 45.5199 - mean_absolute_error: 45.5199\n",
            "Epoch 9/100\n",
            "35/35 [==============================] - 0s 1ms/step - loss: 45.3784 - mean_absolute_error: 45.3784\n",
            "Epoch 10/100\n",
            "35/35 [==============================] - 0s 2ms/step - loss: 44.9512 - mean_absolute_error: 44.9512\n",
            "Epoch 11/100\n",
            "35/35 [==============================] - 0s 2ms/step - loss: 44.6037 - mean_absolute_error: 44.6037\n",
            "Epoch 12/100\n",
            "35/35 [==============================] - 0s 2ms/step - loss: 46.0994 - mean_absolute_error: 46.0994\n",
            "Epoch 13/100\n",
            "35/35 [==============================] - 0s 1ms/step - loss: 47.9981 - mean_absolute_error: 47.9981\n",
            "Epoch 14/100\n",
            "35/35 [==============================] - 0s 2ms/step - loss: 44.1822 - mean_absolute_error: 44.1822\n",
            "Epoch 15/100\n",
            "35/35 [==============================] - 0s 1ms/step - loss: 48.0924 - mean_absolute_error: 48.0924\n",
            "Epoch 16/100\n",
            "35/35 [==============================] - 0s 2ms/step - loss: 45.9909 - mean_absolute_error: 45.9909\n",
            "Epoch 17/100\n",
            "35/35 [==============================] - 0s 2ms/step - loss: 43.7116 - mean_absolute_error: 43.7116\n",
            "Epoch 18/100\n",
            "35/35 [==============================] - 0s 2ms/step - loss: 43.6512 - mean_absolute_error: 43.6512\n",
            "Epoch 19/100\n",
            "35/35 [==============================] - 0s 2ms/step - loss: 48.5354 - mean_absolute_error: 48.5354\n",
            "Epoch 20/100\n",
            "35/35 [==============================] - 0s 2ms/step - loss: 44.1208 - mean_absolute_error: 44.1208\n",
            "Epoch 21/100\n",
            "35/35 [==============================] - 0s 1ms/step - loss: 44.6040 - mean_absolute_error: 44.6040\n",
            "Epoch 22/100\n",
            "35/35 [==============================] - 0s 2ms/step - loss: 44.8485 - mean_absolute_error: 44.8485\n",
            "Epoch 23/100\n",
            "35/35 [==============================] - 0s 2ms/step - loss: 46.0773 - mean_absolute_error: 46.0773\n",
            "Epoch 24/100\n",
            "35/35 [==============================] - 0s 1ms/step - loss: 44.4931 - mean_absolute_error: 44.4931\n",
            "Epoch 25/100\n",
            "35/35 [==============================] - 0s 1ms/step - loss: 43.3853 - mean_absolute_error: 43.3853\n",
            "Epoch 26/100\n",
            "35/35 [==============================] - 0s 2ms/step - loss: 46.2045 - mean_absolute_error: 46.2045\n",
            "Epoch 27/100\n",
            "35/35 [==============================] - 0s 2ms/step - loss: 45.8435 - mean_absolute_error: 45.8435\n",
            "Epoch 28/100\n",
            "35/35 [==============================] - 0s 2ms/step - loss: 44.2407 - mean_absolute_error: 44.2407\n",
            "Epoch 29/100\n",
            "35/35 [==============================] - 0s 2ms/step - loss: 44.1102 - mean_absolute_error: 44.1102\n",
            "Epoch 30/100\n",
            "35/35 [==============================] - 0s 2ms/step - loss: 44.5326 - mean_absolute_error: 44.5326\n",
            "Epoch 31/100\n",
            "35/35 [==============================] - 0s 2ms/step - loss: 46.0269 - mean_absolute_error: 46.0269\n",
            "Epoch 32/100\n",
            "35/35 [==============================] - 0s 2ms/step - loss: 44.4038 - mean_absolute_error: 44.4038\n",
            "Epoch 33/100\n",
            "35/35 [==============================] - 0s 2ms/step - loss: 42.7148 - mean_absolute_error: 42.7148\n",
            "Epoch 34/100\n",
            "35/35 [==============================] - 0s 2ms/step - loss: 42.3755 - mean_absolute_error: 42.3755\n",
            "Epoch 35/100\n",
            "35/35 [==============================] - 0s 1ms/step - loss: 42.0052 - mean_absolute_error: 42.0052\n",
            "Epoch 36/100\n",
            "35/35 [==============================] - 0s 2ms/step - loss: 41.8606 - mean_absolute_error: 41.8606\n",
            "Epoch 37/100\n",
            "35/35 [==============================] - 0s 2ms/step - loss: 42.6588 - mean_absolute_error: 42.6588\n",
            "Epoch 38/100\n",
            "35/35 [==============================] - 0s 1ms/step - loss: 42.6960 - mean_absolute_error: 42.6960\n",
            "Epoch 39/100\n",
            "35/35 [==============================] - 0s 1ms/step - loss: 43.5882 - mean_absolute_error: 43.5882\n",
            "Epoch 40/100\n",
            "35/35 [==============================] - 0s 1ms/step - loss: 43.0651 - mean_absolute_error: 43.0651\n",
            "Epoch 41/100\n",
            "35/35 [==============================] - 0s 2ms/step - loss: 41.6307 - mean_absolute_error: 41.6307\n",
            "Epoch 42/100\n",
            "35/35 [==============================] - 0s 2ms/step - loss: 42.4908 - mean_absolute_error: 42.4908\n",
            "Epoch 43/100\n",
            "35/35 [==============================] - 0s 1ms/step - loss: 41.2126 - mean_absolute_error: 41.2126\n",
            "Epoch 44/100\n",
            "35/35 [==============================] - 0s 1ms/step - loss: 44.4008 - mean_absolute_error: 44.4008\n",
            "Epoch 45/100\n",
            "35/35 [==============================] - 0s 2ms/step - loss: 42.8106 - mean_absolute_error: 42.8106\n",
            "Epoch 46/100\n",
            "35/35 [==============================] - 0s 1ms/step - loss: 43.2453 - mean_absolute_error: 43.2453\n",
            "Epoch 47/100\n",
            "35/35 [==============================] - 0s 2ms/step - loss: 43.8741 - mean_absolute_error: 43.8741\n",
            "Epoch 48/100\n",
            "35/35 [==============================] - 0s 2ms/step - loss: 41.4267 - mean_absolute_error: 41.4267\n",
            "Epoch 49/100\n",
            "35/35 [==============================] - 0s 2ms/step - loss: 43.5803 - mean_absolute_error: 43.5803\n",
            "Epoch 50/100\n",
            "35/35 [==============================] - 0s 2ms/step - loss: 42.3676 - mean_absolute_error: 42.3676\n",
            "Epoch 51/100\n",
            "35/35 [==============================] - 0s 1ms/step - loss: 42.2866 - mean_absolute_error: 42.2866\n",
            "Epoch 52/100\n",
            "35/35 [==============================] - 0s 2ms/step - loss: 41.4658 - mean_absolute_error: 41.4658\n",
            "Epoch 53/100\n",
            "35/35 [==============================] - 0s 1ms/step - loss: 41.4508 - mean_absolute_error: 41.4508\n",
            "Epoch 54/100\n",
            "35/35 [==============================] - 0s 1ms/step - loss: 41.1629 - mean_absolute_error: 41.1629\n",
            "Epoch 55/100\n",
            "35/35 [==============================] - 0s 1ms/step - loss: 41.6801 - mean_absolute_error: 41.6801\n",
            "Epoch 56/100\n",
            "35/35 [==============================] - 0s 2ms/step - loss: 41.2475 - mean_absolute_error: 41.2475\n",
            "Epoch 57/100\n",
            "35/35 [==============================] - 0s 2ms/step - loss: 42.5699 - mean_absolute_error: 42.5699\n",
            "Epoch 58/100\n",
            "35/35 [==============================] - 0s 1ms/step - loss: 41.1311 - mean_absolute_error: 41.1311\n",
            "Epoch 59/100\n",
            "35/35 [==============================] - 0s 2ms/step - loss: 41.2856 - mean_absolute_error: 41.2856\n",
            "Epoch 60/100\n",
            "35/35 [==============================] - 0s 2ms/step - loss: 41.0831 - mean_absolute_error: 41.0831\n",
            "Epoch 61/100\n",
            "35/35 [==============================] - 0s 1ms/step - loss: 41.6220 - mean_absolute_error: 41.6220\n",
            "Epoch 62/100\n",
            "35/35 [==============================] - 0s 2ms/step - loss: 42.8536 - mean_absolute_error: 42.8536\n",
            "Epoch 63/100\n",
            "35/35 [==============================] - 0s 1ms/step - loss: 41.3656 - mean_absolute_error: 41.3656\n",
            "Epoch 64/100\n",
            "35/35 [==============================] - 0s 1ms/step - loss: 40.8453 - mean_absolute_error: 40.8453\n",
            "Epoch 65/100\n",
            "35/35 [==============================] - 0s 2ms/step - loss: 41.3544 - mean_absolute_error: 41.3544\n",
            "Epoch 66/100\n",
            "35/35 [==============================] - 0s 2ms/step - loss: 42.3914 - mean_absolute_error: 42.3914\n",
            "Epoch 67/100\n",
            "35/35 [==============================] - 0s 2ms/step - loss: 41.5166 - mean_absolute_error: 41.5166\n",
            "Epoch 68/100\n",
            "35/35 [==============================] - 0s 1ms/step - loss: 41.6469 - mean_absolute_error: 41.6469\n",
            "Epoch 69/100\n",
            "35/35 [==============================] - 0s 1ms/step - loss: 41.7462 - mean_absolute_error: 41.7462\n",
            "Epoch 70/100\n",
            "35/35 [==============================] - 0s 2ms/step - loss: 40.9556 - mean_absolute_error: 40.9556\n",
            "Epoch 71/100\n",
            "35/35 [==============================] - 0s 1ms/step - loss: 41.0998 - mean_absolute_error: 41.0998\n",
            "Epoch 72/100\n",
            "35/35 [==============================] - 0s 2ms/step - loss: 40.5918 - mean_absolute_error: 40.5918\n",
            "Epoch 73/100\n",
            "35/35 [==============================] - 0s 2ms/step - loss: 41.5434 - mean_absolute_error: 41.5434\n",
            "Epoch 74/100\n",
            "35/35 [==============================] - 0s 2ms/step - loss: 41.7715 - mean_absolute_error: 41.7715\n",
            "Epoch 75/100\n",
            "35/35 [==============================] - 0s 2ms/step - loss: 41.1866 - mean_absolute_error: 41.1866\n",
            "Epoch 76/100\n",
            "35/35 [==============================] - 0s 1ms/step - loss: 40.4710 - mean_absolute_error: 40.4710\n",
            "Epoch 77/100\n",
            "35/35 [==============================] - 0s 1ms/step - loss: 40.8564 - mean_absolute_error: 40.8564\n",
            "Epoch 78/100\n",
            "35/35 [==============================] - 0s 1ms/step - loss: 41.0978 - mean_absolute_error: 41.0978\n",
            "Epoch 79/100\n",
            "35/35 [==============================] - 0s 2ms/step - loss: 40.5802 - mean_absolute_error: 40.5802\n",
            "Epoch 80/100\n",
            "35/35 [==============================] - 0s 2ms/step - loss: 41.2401 - mean_absolute_error: 41.2401\n",
            "Epoch 81/100\n",
            "35/35 [==============================] - 0s 1ms/step - loss: 41.1213 - mean_absolute_error: 41.1213\n",
            "Epoch 82/100\n",
            "35/35 [==============================] - 0s 2ms/step - loss: 40.4838 - mean_absolute_error: 40.4838\n",
            "Epoch 83/100\n",
            "35/35 [==============================] - 0s 1ms/step - loss: 40.7036 - mean_absolute_error: 40.7036\n",
            "Epoch 84/100\n",
            "35/35 [==============================] - 0s 2ms/step - loss: 40.4679 - mean_absolute_error: 40.4679\n",
            "Epoch 85/100\n",
            "35/35 [==============================] - 0s 2ms/step - loss: 39.9302 - mean_absolute_error: 39.9302\n",
            "Epoch 86/100\n",
            "35/35 [==============================] - 0s 2ms/step - loss: 41.5174 - mean_absolute_error: 41.5174\n",
            "Epoch 87/100\n",
            "35/35 [==============================] - 0s 2ms/step - loss: 41.2838 - mean_absolute_error: 41.2838\n",
            "Epoch 88/100\n",
            "35/35 [==============================] - 0s 2ms/step - loss: 40.6379 - mean_absolute_error: 40.6379\n",
            "Epoch 89/100\n",
            "35/35 [==============================] - 0s 1ms/step - loss: 41.1459 - mean_absolute_error: 41.1459\n",
            "Epoch 90/100\n",
            "35/35 [==============================] - 0s 2ms/step - loss: 41.0394 - mean_absolute_error: 41.0394\n",
            "Epoch 91/100\n",
            "35/35 [==============================] - 0s 3ms/step - loss: 40.5079 - mean_absolute_error: 40.5079\n",
            "Epoch 92/100\n",
            "35/35 [==============================] - 0s 2ms/step - loss: 40.4707 - mean_absolute_error: 40.4707\n",
            "Epoch 93/100\n",
            "35/35 [==============================] - 0s 2ms/step - loss: 41.6561 - mean_absolute_error: 41.6561\n",
            "Epoch 94/100\n",
            "35/35 [==============================] - 0s 2ms/step - loss: 40.3407 - mean_absolute_error: 40.3407\n",
            "Epoch 95/100\n",
            "35/35 [==============================] - 0s 2ms/step - loss: 39.9196 - mean_absolute_error: 39.9196\n",
            "Epoch 96/100\n",
            "35/35 [==============================] - 0s 2ms/step - loss: 39.8654 - mean_absolute_error: 39.8654\n",
            "Epoch 97/100\n",
            "35/35 [==============================] - 0s 2ms/step - loss: 41.5958 - mean_absolute_error: 41.5958\n",
            "Epoch 98/100\n",
            "35/35 [==============================] - 0s 2ms/step - loss: 40.9801 - mean_absolute_error: 40.9801\n",
            "Epoch 99/100\n",
            "35/35 [==============================] - 0s 2ms/step - loss: 42.9303 - mean_absolute_error: 42.9303\n",
            "Epoch 100/100\n",
            "35/35 [==============================] - 0s 2ms/step - loss: 40.7472 - mean_absolute_error: 40.7472\n",
            "11/11 [==============================] - 0s 2ms/step - loss: 40.7805 - mean_absolute_error: 40.7805\n"
          ]
        },
        {
          "output_type": "execute_result",
          "data": {
            "text/plain": [
              "[40.78048324584961, 40.78048324584961]"
            ]
          },
          "metadata": {},
          "execution_count": 58
        }
      ]
    },
    {
      "cell_type": "code",
      "source": [
        "model.evaluate(X_test, y_test, batch_size=128)"
      ],
      "metadata": {
        "colab": {
          "base_uri": "https://localhost:8080/"
        },
        "id": "OnWFOAz0pF7G",
        "outputId": "ff513e71-e9b4-4d7e-a242-97667662b411"
      },
      "execution_count": null,
      "outputs": [
        {
          "output_type": "stream",
          "name": "stdout",
          "text": [
            "3/3 [==============================] - 0s 4ms/step - loss: 40.7805 - mean_absolute_error: 40.7805\n"
          ]
        },
        {
          "output_type": "execute_result",
          "data": {
            "text/plain": [
              "[40.78048324584961, 40.78048324584961]"
            ]
          },
          "metadata": {},
          "execution_count": 59
        }
      ]
    },
    {
      "cell_type": "code",
      "source": [],
      "metadata": {
        "id": "0b0mnxEmpKV3"
      },
      "execution_count": null,
      "outputs": []
    }
  ]
}